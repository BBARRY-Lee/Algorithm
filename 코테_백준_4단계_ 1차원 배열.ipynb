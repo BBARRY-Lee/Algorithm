{
 "cells": [
  {
   "cell_type": "code",
   "execution_count": 19,
   "id": "5d7a284f",
   "metadata": {},
   "outputs": [
    {
     "name": "stdout",
     "output_type": "stream",
     "text": [
      "4\n",
      "1 2 3 4\n",
      "4 1\n"
     ]
    }
   ],
   "source": [
    "# 백준 단계별로 문제풀이\n",
    "## 단계 4 : 1차원 배열\n",
    "\n",
    "### Q1. 10818_최소, 최대\n",
    "# 문제 : N개의 정수가 주어진다. 이때, 최솟값과 최댓값을 구하는 프로그램을 작성하시오.\n",
    "# 입력\n",
    "# 첫째 줄에 정수의 개수 N (1 ≤ N ≤ 1,000,000)이 주어진다. 둘째 줄에는 N개의 정수를 공백으로 구분해서 주어진다.\n",
    "# 모든 정수는 -1,000,000보다 크거나 같고, 1,000,000보다 작거나 같은 정수이다.\n",
    "# 출력 : 첫째 줄에 주어진 정수 N개의 최솟값과 최댓값을 공백으로 구분해 출력한다.\n",
    "\n",
    "t=int(input())\n",
    "N=list(map(int, input().split()))\n",
    "print(max(N), min(N))\n"
   ]
  },
  {
   "cell_type": "code",
   "execution_count": 24,
   "id": "394e27a5",
   "metadata": {},
   "outputs": [
    {
     "name": "stdout",
     "output_type": "stream",
     "text": [
      "1\n",
      "2\n",
      "3\n",
      "4\n",
      "5\n",
      "2\n",
      "1\n",
      "2\n",
      "34\n",
      "3\n",
      "9\n"
     ]
    }
   ],
   "source": [
    "### Q2. 2562_최댓값\n",
    "# 문제\n",
    "# 9개의 서로 다른 자연수가 주어질 때, 이들 중 최댓값을 찾고 그 최댓값이 몇 번째 수인지를 구하는 프로그램을 작성하시오.\n",
    "#예를 들어, 서로 다른 9개의 자연수\n",
    "# 3, 29, 38, 12, 57, 74, 40, 85, 61 이 주어지면, 이들 중 최댓값은 85이고, 이 값은 8번째 수이다.\n",
    "# 입력 : 첫째 줄부터 아홉 번째 줄까지 한 줄에 하나의 자연수가 주어진다. 주어지는 자연수는 100 보다 작다.\n",
    "# 출력 : 첫째 줄에 최댓값을 출력하고, 둘째 줄에 최댓값이 몇 번째 수인지를 출력한다.\n",
    "\n",
    "\n",
    "num=[int(input()) for _ in range(10)]\n",
    "a=(max(num))\n",
    "print(num.index(a)+1) #인덱스는 0부터 시작하니까 1을 더해주어야 함\n"
   ]
  },
  {
   "cell_type": "code",
   "execution_count": 32,
   "id": "ac8c9ef6",
   "metadata": {},
   "outputs": [
    {
     "name": "stdout",
     "output_type": "stream",
     "text": [
      "100\n",
      "100\n",
      "100\n",
      "6\n",
      "1\n",
      "0\n",
      "0\n",
      "0\n",
      "0\n",
      "0\n",
      "0\n",
      "0\n",
      "0\n"
     ]
    }
   ],
   "source": [
    "### Q2. 2577_숫자의 개수\n",
    "# 문제\n",
    "# 세 개의 자연수 A, B, C가 주어질 때 A × B × C를 계산한 결과에 0부터 9까지 각각의 숫자가 몇 번씩 쓰였는지를 구하는 프로그램을 작성하시오.\n",
    "# 예를 들어 A = 150, B = 266, C = 427 이라면 A × B × C = 150 × 266 × 427 = 17037300 이 되고,\n",
    "# 계산한 결과 17037300 에는 0이 3번, 1이 1번, 3이 2번, 7이 2번 쓰였다.\n",
    "\n",
    "# 입력 : 첫째 줄에 A, 둘째 줄에 B, 셋째 줄에 C가 주어진다. A, B, C는 모두 100보다 크거나 같고, 1,000보다 작은 자연수이다.\n",
    "# 출력\n",
    "# 첫째 줄에는 A × B × C의 결과에 0 이 몇 번 쓰였는지 출력한다.\n",
    "# 마찬가지로 둘째 줄부터 열 번째 줄까지 A × B × C의 결과에 1부터 9까지의 숫자가 각각 몇 번 쓰였는지 차례로 한 줄에 하나씩 출력한다.\n",
    "\n",
    "A = int(input())\n",
    "B = int(input())\n",
    "C = int(input())\n",
    "\n",
    "# str함수를 이용하여 문자열로 변환하고,\n",
    "# list를 이용하여 각각의 문자를 요소로 가지는 리스트로 변환\n",
    "D = list(str(A*B*C)) \n",
    "\n",
    "for i in range(10):\n",
    "    AA=D.count(str(i)) # i 또한 str함수를 통해 문자열 변환해야 카운팅 가능\n",
    "\n",
    "    print(AA)"
   ]
  },
  {
   "cell_type": "code",
   "execution_count": 44,
   "id": "d8740037",
   "metadata": {},
   "outputs": [
    {
     "name": "stdout",
     "output_type": "stream",
     "text": [
      "42\n",
      "84\n",
      "2\n"
     ]
    }
   ],
   "source": [
    "### Q3. 3052_나머지\n",
    "# 문제\n",
    "# 두 자연수 A와 B가 있을 때, A%B는 A를 B로 나눈 나머지 이다. 예를 들어, 7, 14, 27, 38을 3으로 나눈 나머지는 1, 2, 0, 2이다. \n",
    "# 수 10개를 입력받은 뒤, 이를 42로 나눈 나머지를 구한다. 그 다음 서로 다른 값이 몇 개 있는지 출력하는 프로그램을 작성하시오.\n",
    "\n",
    "# 입력 : 첫째 줄부터 열번째 줄 까지 숫자가 한 줄에 하나씩 주어진다. 이 숫자는 1,000보다 작거나 같고, 음이 아닌 정수이다.\n",
    "# 출력 : 첫째 줄에, 42로 나누었을 때, 서로 다른 나머지가 몇 개 있는지 출력한다.\n",
    "\n",
    "#list는 사칙연산이 안 됨\n",
    "new_list=[]\n",
    "\n",
    "for _ in range(10):\n",
    "    n=int(input())\n",
    "    a=n%42\n",
    "    new_list.append(a)\n",
    "    \n",
    "s=set(new_list) #중복 제거\n",
    "print(len(s)) #남은 개수 카운팅"
   ]
  },
  {
   "cell_type": "code",
   "execution_count": 34,
   "id": "a2304c8c",
   "metadata": {},
   "outputs": [
    {
     "name": "stdout",
     "output_type": "stream",
     "text": [
      "3\n",
      "10 20 30\n",
      "66.66666666666667\n"
     ]
    }
   ],
   "source": [
    "### Q4. 1546_평균\n",
    "# 문제\n",
    "# 세준이는 기말고사를 망쳤다. 세준이는 점수를 조작해서 집에 가져가기로 했다.\n",
    "# 일단 세준이는 자기 점수 중에 최댓값을 골랐다. 이 값을 M이라고 한다. 그리고 나서 모든 점수를 점수/M*100으로 고쳤다.\n",
    "# 예를 들어, 세준이의 최고점이 70이고, 수학점수가 50이었으면 수학점수는 50/70*100이 되어 71.43점이 된다.\n",
    "# 세준이의 성적을 위의 방법대로 새로 계산했을 때, 새로운 평균을 구하는 프로그램을 작성하시오.\n",
    "\n",
    "# 입력 \n",
    "# 첫째 줄에 시험 본 과목의 개수 N이 주어진다. 이 값은 1000보다 작거나 같다. 둘째 줄에 세준이의 현재 성적이 주어진다.\n",
    "# 이 값은 100보다 작거나 같은 음이 아닌 정수이고, 적어도 하나의 값은 0보다 크다.\n",
    "\n",
    "# 출력 : 첫째 줄에 새로운 평균을 출력한다. 실제 정답과 출력값의 절대오차 또는 상대오차가 10의 -2승 이하이면 정답이다.\n",
    "\n",
    "t = int(input())\n",
    "N = list(map(int, input().split()))\n",
    "M = max(N)\n",
    "\n",
    "new=[]\n",
    "for score in N:\n",
    "    new.append(score/M*100) # 이와 같이 append 괄호 안 연산 가능\n",
    "    \n",
    "avr=sum(new)/t    \n",
    "print(avr)\n",
    "    "
   ]
  },
  {
   "cell_type": "code",
   "execution_count": null,
   "id": "378f7439",
   "metadata": {},
   "outputs": [
    {
     "name": "stdout",
     "output_type": "stream",
     "text": [
      "5\n",
      "OOXXOXXOOO\n",
      "10\n"
     ]
    }
   ],
   "source": [
    "### Q5. 8958_OX퀴즈 \n",
    "# 문제\n",
    "# \"OOXXOXXOOO\"와 같은 OX퀴즈의 결과가 있다. O는 문제를 맞은 것이고, X는 문제를 틀린 것이다.\n",
    "# 문제를 맞은 경우 그 문제의 점수는 그 문제까지 연속된 O의 개수가 된다. 예를 들어, 10번 문제의 점수는 3이 된다.\n",
    "# \"OOXXOXXOOO\"의 점수는 1+2+0+0+1+0+0+1+2+3 = 10점이다.\n",
    "# OX퀴즈의 결과가 주어졌을 때, 점수를 구하는 프로그램을 작성하시오.\n",
    "\n",
    "# 입력 : 첫째 줄에 테스트 케이스의 개수가 주어진다.\n",
    "# 각 테스트 케이스는 한 줄로 이루어져 있고, 길이가 0보다 크고 80보다 작은 문자열이 주어진다. 문자열은 O와 X만으로 이루어져 있다.\n",
    "\n",
    "# 출력 : 각 테스트 케이스마다 점수를 출력한다.\n",
    "\n",
    "t=int(input())\n",
    "\n",
    "for _ in range(t):\n",
    "    OX_list=list(input())\n",
    "    score=0\n",
    "    sum_score=0\n",
    "\n",
    "    for OX in OX_list :\n",
    "        if OX == 'O':\n",
    "            score+=1\n",
    "            sum_score+=score\n",
    "            \n",
    "        else :\n",
    "            score=0\n",
    "            \n",
    "    print(sum_score)\n",
    "    \n",
    "    "
   ]
  },
  {
   "cell_type": "code",
   "execution_count": 8,
   "id": "ab7afea6",
   "metadata": {},
   "outputs": [
    {
     "name": "stdout",
     "output_type": "stream",
     "text": [
      "1\n",
      "100 100\n",
      "1.000%\n"
     ]
    }
   ],
   "source": [
    "### Q6. 4344_평균은 넘겠지\n",
    "# 문제 : 대학생 새내기들의 90%는 자신이 반에서 평균은 넘는다고 생각한다. 당신은 그들에게 슬픈 진실을 알려줘야 한다.\n",
    "# 입력\n",
    "# 첫째 줄에는 테스트 케이스의 개수 C가 주어진다.\n",
    "# 둘째 줄부터 각 테스트 케이스마다 학생의 수 N(1 ≤ N ≤ 1000, N은 정수)이 첫 수로 주어지고, 이어서 N명의 점수가 주어진다.\n",
    "# 점수는 0보다 크거나 같고, 100보다 작거나 같은 정수이다.\n",
    "\n",
    "# 출력 : 각 케이스마다 한 줄씩 평균을 넘는 학생들의 비율을 반올림하여 소수점 셋째 자리까지 출력한다.\n",
    "\n",
    "t=int(input())\n",
    "\n",
    "for _ in range(t):\n",
    "    a=list(map(int, input().split()))\n",
    "    avr=sum(a[1:])/a[0] # 반평균 : a[1:] - list 내 두번째 ~ 끝, a[0] - 첫번째 \n",
    "    cnt=0 # cnt 초기화\n",
    "    \n",
    "    for new in a[1:]: #new에 alist 2~마지막\n",
    "        if new > avr:\n",
    "            cnt+=1\n",
    "    rate=cnt/a[0]*100\n",
    "    print(f'{rate:.3f}%')"
   ]
  }
 ],
 "metadata": {
  "kernelspec": {
   "display_name": "Python 3 (ipykernel)",
   "language": "python",
   "name": "python3"
  },
  "language_info": {
   "codemirror_mode": {
    "name": "ipython",
    "version": 3
   },
   "file_extension": ".py",
   "mimetype": "text/x-python",
   "name": "python",
   "nbconvert_exporter": "python",
   "pygments_lexer": "ipython3",
   "version": "3.9.12"
  }
 },
 "nbformat": 4,
 "nbformat_minor": 5
}
