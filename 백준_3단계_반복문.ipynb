{
 "cells": [
  {
   "cell_type": "code",
   "execution_count": null,
   "id": "6320c5ac",
   "metadata": {},
   "outputs": [],
   "source": [
    "# 백준 단계별로 문제풀이\n",
    "## 단계 3 : 반복문\n",
    "\n",
    "### Q1. 2739_구구단\n",
    "# 문제 : N을 입력받은 뒤, 구구단 N단을 출력하는 프로그램을 작성하시오. 출력 형식에 맞춰서 출력하면 된다.\n",
    "# 입력 : 첫째 줄에 N이 주어진다. N은 1보다 크거나 같고, 9보다 작거나 같다.\n",
    "# 출력 : 출력형식과 같게 N*1부터 N*9까지 출력한다.\n",
    "\n",
    "N=int(input())\n",
    "\n",
    "for i in range(1, 10):\n",
    "    print(\"%d * %d = %d\"%(N, i, N*i))\n",
    "    "
   ]
  },
  {
   "cell_type": "code",
   "execution_count": 1,
   "id": "bc90d426",
   "metadata": {},
   "outputs": [
    {
     "name": "stdout",
     "output_type": "stream",
     "text": [
      "5\n",
      "1 1\n",
      "2 2\n",
      "3 3\n",
      "4 4\n",
      "5 5\n",
      "10\n"
     ]
    }
   ],
   "source": [
    "### Q2. 10950_A+B - 3\n",
    "# 문제 : 두 정수 A와 B를 입력받은 다음, A+B를 출력하는 프로그램을 작성하시오.\n",
    "# 입력\n",
    "# 첫째 줄에 테스트 케이스의 개수 T가 주어진다.\n",
    "# 각 테스트 케이스는 한 줄로 이루어져 있으며, 각 줄에 A와 B가 주어진다. (0 < A, B < 10)\n",
    "# 출력 : 각 테스트 케이스마다 A+B를 출력한다.\n",
    "\n",
    "t=int(input())\n",
    "\n",
    "for i in range(1,t+1):\n",
    "    A, B = map(int, input().split())\n",
    "    print(A+B)\n",
    "\n",
    "    \n",
    "# 테스트 케이스(Test Case)란 명세 기반 테스트의 설계 산출물로 설계된\n",
    "# 입력값, 실행조건, 기대 결과로 구성되어 있는 테스트 항목의 명세서를 의미한다.\n",
    "# 보통 테스트 케이스를 활용하는 이유는 크게 두가지이다. 테스트 누락 방지와 테스트 투명화이다."
   ]
  },
  {
   "cell_type": "code",
   "execution_count": 3,
   "id": "37d89942",
   "metadata": {},
   "outputs": [
    {
     "name": "stdout",
     "output_type": "stream",
     "text": [
      "3\n",
      "6\n"
     ]
    }
   ],
   "source": [
    "### Q3. 8393_합\n",
    "# 문제 : n이 주어졌을 때, 1부터 n까지 합을 구하는 프로그램을 작성하시오.\n",
    "# 입력 : 첫째 줄에 n (1 ≤ n ≤ 10,000)이 주어진다.\n",
    "# 출력 : 1부터 n까지 합을 출력한다.\n",
    "\n",
    "n=int(input())\n",
    "sum=0\n",
    "\n",
    "for i in range(1, n+1):\n",
    "    sum+=i\n",
    "\n",
    "print(sum)\n",
    "    \n"
   ]
  },
  {
   "cell_type": "code",
   "execution_count": 6,
   "id": "7f5d6043",
   "metadata": {},
   "outputs": [
    {
     "ename": "ValueError",
     "evalue": "invalid literal for int() with base 10: ''",
     "output_type": "error",
     "traceback": [
      "\u001b[0;31m---------------------------------------------------------------------------\u001b[0m",
      "\u001b[0;31mValueError\u001b[0m                                Traceback (most recent call last)",
      "Input \u001b[0;32mIn [6]\u001b[0m, in \u001b[0;36m<cell line: 23>\u001b[0;34m()\u001b[0m\n\u001b[1;32m      1\u001b[0m \u001b[38;5;66;03m### Q4. 15552_빠른 A+B\u001b[39;00m\n\u001b[1;32m      2\u001b[0m \u001b[38;5;66;03m# 문제\u001b[39;00m\n\u001b[1;32m      3\u001b[0m \u001b[38;5;66;03m# 본격적으로 for문 문제를 풀기 전에 주의해야 할 점이 있다.\u001b[39;00m\n\u001b[0;32m   (...)\u001b[0m\n\u001b[1;32m     18\u001b[0m \n\u001b[1;32m     19\u001b[0m \u001b[38;5;66;03m# 출력 : 각 테스트케이스마다 A+B를 한 줄에 하나씩 순서대로 출력한다.\u001b[39;00m\n\u001b[1;32m     21\u001b[0m \u001b[38;5;28;01mimport\u001b[39;00m \u001b[38;5;21;01msys\u001b[39;00m\n\u001b[0;32m---> 23\u001b[0m t\u001b[38;5;241m=\u001b[39m\u001b[38;5;28;43mint\u001b[39;49m\u001b[43m(\u001b[49m\u001b[43msys\u001b[49m\u001b[38;5;241;43m.\u001b[39;49m\u001b[43mstdin\u001b[49m\u001b[38;5;241;43m.\u001b[39;49m\u001b[43mreadline\u001b[49m\u001b[43m(\u001b[49m\u001b[43m)\u001b[49m\u001b[43m)\u001b[49m\n\u001b[1;32m     25\u001b[0m \u001b[38;5;28;01mfor\u001b[39;00m _ \u001b[38;5;129;01min\u001b[39;00m \u001b[38;5;28mrange\u001b[39m(t):\n\u001b[1;32m     26\u001b[0m     A ,B \u001b[38;5;241m=\u001b[39m \u001b[38;5;28mmap\u001b[39m(\u001b[38;5;28mint\u001b[39m, sys\u001b[38;5;241m.\u001b[39mstdin\u001b[38;5;241m.\u001b[39mreadline()\u001b[38;5;241m.\u001b[39msplit())\n",
      "\u001b[0;31mValueError\u001b[0m: invalid literal for int() with base 10: ''"
     ]
    }
   ],
   "source": [
    "### Q4. 15552_빠른 A+B\n",
    "# 문제\n",
    "# 본격적으로 for문 문제를 풀기 전에 주의해야 할 점이 있다.\n",
    "# 입출력 방식이 느리면 여러 줄을 입력받거나 출력할 때 시간초과가 날 수 있다는 점이다.\n",
    "# C++을 사용하고 있고 cin/cout을 사용하고자 한다면,\n",
    "# cin.tie(NULL)과 sync_with_stdio(false)를 둘 다 적용해 주고,\n",
    "# endl 대신 개행문자(\\n)를 쓰자. 단, 이렇게 하면 더 이상 scanf/printf/puts/getchar/putchar 등 C의 입출력 방식을 사용하면 안 된다.\n",
    "# Java를 사용하고 있다면, Scanner와 System.out.println 대신 BufferedReader와\n",
    "# BufferedWriter를 사용할 수 있다. BufferedWriter.flush는 맨 마지막에 한 번만 하면 된다.\n",
    "# Python을 사용하고 있다면, input 대신 sys.stdin.readline을 사용할 수 있다.\n",
    "# 단, 이때는 맨 끝의 개행문자까지 같이 입력받기 때문에 문자열을 저장하고 싶을 경우 .rstrip()을 추가로 해 주는 것이 좋다.\n",
    "# 또한 입력과 출력 스트림은 별개이므로, 테스트케이스를 전부 입력받아서 저장한 뒤 전부 출력할 필요는 없다.\n",
    "# 테스트케이스를 하나 받은 뒤 하나 출력해도 된다.\n",
    "\n",
    "# 입력\n",
    "# 첫 줄에 테스트케이스의 개수 T가 주어진다. T는 최대 1,000,000이다.\n",
    "# 다음 T줄에는 각각 두 정수 A와 B가 주어진다. A와 B는 1 이상, 1,000 이하이다.\n",
    "\n",
    "# 출력 : 각 테스트케이스마다 A+B를 한 줄에 하나씩 순서대로 출력한다.\n",
    "\n",
    "import sys\n",
    "\n",
    "t=int(sys.stdin.readline())\n",
    "\n",
    "for _ in range(t):\n",
    "    A ,B = map(int, sys.stdin.readline().split())\n",
    "\n",
    "    print(A+B)\n",
    "\n",
    "\n",
    "# 파이썬으로 실행이 오류가 안 뜨나, 주피터노트북에서는 오류로 나옴\n",
    "\n",
    "\n",
    "\n"
   ]
  },
  {
   "cell_type": "code",
   "execution_count": 2,
   "id": "0ce851c4",
   "metadata": {},
   "outputs": [
    {
     "name": "stdout",
     "output_type": "stream",
     "text": [
      "3\n",
      "1\n",
      "2\n",
      "3\n"
     ]
    }
   ],
   "source": [
    "### Q5. 2741_N 찍기\n",
    "# 문제 : 자연수 N이 주어졌을 때, 1부터 N까지 한 줄에 하나씩 출력하는 프로그램을 작성하시오.\n",
    "# 입력 : 첫째 줄에 100,000보다 작거나 같은 자연수 N이 주어진다.\n",
    "# 출력 : 첫째 줄부터 N번째 줄 까지 차례대로 출력한다.\n",
    "\n",
    "N=int(input())\n",
    "\n",
    "for i in range(1, N+1):\n",
    "    print(i)"
   ]
  },
  {
   "cell_type": "code",
   "execution_count": 7,
   "id": "e4edb58b",
   "metadata": {},
   "outputs": [
    {
     "name": "stdout",
     "output_type": "stream",
     "text": [
      "5\n",
      "5\n",
      "4\n",
      "3\n",
      "2\n",
      "1\n"
     ]
    }
   ],
   "source": [
    "### Q6. 2742_N 기찍\n",
    "# 문제 : 자연수 N이 주어졌을 때, N부터 1까지 한 줄에 하나씩 출력하는 프로그램을 작성하시오.\n",
    "# 입력 : 첫째 줄에 100,000보다 작거나 같은 자연수 N이 주어진다.\n",
    "# 출력 : 첫째 줄부터 N번째 줄 까지 차례대로 출력한다.\n",
    "\n",
    "N=int(input())\n",
    "\n",
    "for i in range(N, 0, -1): #시작 숫자,마지막 숫자+1,반대로\n",
    "    print(i)"
   ]
  },
  {
   "cell_type": "code",
   "execution_count": null,
   "id": "2323febc",
   "metadata": {},
   "outputs": [
    {
     "name": "stdout",
     "output_type": "stream",
     "text": [
      "2\n",
      "1 3\n",
      "Case #1: 4\n"
     ]
    }
   ],
   "source": [
    "### Q7. 11021_A+B - 7\n",
    "# 문제 : 두 정수 A와 B를 입력받은 다음, A+B를 출력하는 프로그램을 작성하시오.\n",
    "# 입력\n",
    "# 첫째 줄에 테스트 케이스의 개수 T가 주어진다.\n",
    "# 각 테스트 케이스는 한 줄로 이루어져 있으며, 각 줄에 A와 B가 주어진다. (0 < A, B < 10)\n",
    "# 출력 : 각 테스트 케이스마다 \"Case #x: \"를 출력한 다음, A+B를 출력한다. 테스트 케이스 번호는 1부터 시작한다.\n",
    "\n",
    "t = int(input())\n",
    "\n",
    "for i in range (1, t+1):\n",
    "    A, B = map(int, input().split())\n",
    "    print(\"Case #%d: %d\"%(i, A+B))"
   ]
  },
  {
   "cell_type": "code",
   "execution_count": null,
   "id": "258b93de",
   "metadata": {},
   "outputs": [
    {
     "name": "stdout",
     "output_type": "stream",
     "text": [
      "3\n",
      "4 5\n",
      "Case #1: 4 + 5 = 9\n"
     ]
    }
   ],
   "source": [
    "### Q7. 11022_A+B - 8\n",
    "# 문제 : 두 정수 A와 B를 입력받은 다음, A+B를 출력하는 프로그램을 작성하시오.\n",
    "# 입력\n",
    "# 첫째 줄에 테스트 케이스의 개수 T가 주어진다.\n",
    "# 각 테스트 케이스는 한 줄로 이루어져 있으며, 각 줄에 A와 B가 주어진다. (0 < A, B < 10)\n",
    "# 출력 : 각 테스트 케이스마다 \"Case #x: A + B = C\" 형식으로 출력한다. x는 테스트 케이스 번호이고 1부터 시작하며, C는 A+B이다.\n",
    "\n",
    "t=int(input())\n",
    "\n",
    "for i in range(1,t+1):\n",
    "    A, B = map(int, input().split())\n",
    "    print(\"Case #%d: %d + %d = %d\"%(i, A, B, A+B))\n",
    "    "
   ]
  },
  {
   "cell_type": "code",
   "execution_count": 3,
   "id": "07ad6a7d",
   "metadata": {},
   "outputs": [
    {
     "name": "stdout",
     "output_type": "stream",
     "text": [
      "3\n",
      "*\n",
      "**\n",
      "***\n"
     ]
    }
   ],
   "source": [
    "### Q8. 2438_별찍기\n",
    "# 문제 : 첫째 줄에는 별 1개, 둘째 줄에는 별 2개, N번째 줄에는 별 N개를 찍는 문제\n",
    "# 입력 : 첫째 줄에 N(1 ≤ N ≤ 100)이 주어진다.\n",
    "# 출력 : 첫째 줄부터 N번째 줄까지 차례대로 별을 출력한다.\n",
    "\n",
    "N=int(input())\n",
    "\n",
    "for i in range(1, N+1):\n",
    "    a='*'*i\n",
    "    print(a)\n"
   ]
  },
  {
   "cell_type": "code",
   "execution_count": 7,
   "id": "3dde9e8a",
   "metadata": {
    "scrolled": true
   },
   "outputs": [
    {
     "name": "stdout",
     "output_type": "stream",
     "text": [
      "3\n",
      "  *\n",
      " **\n",
      "***\n"
     ]
    }
   ],
   "source": [
    "### Q9. 2439_별찍기 - 2\n",
    "# 문제\n",
    "# 첫째 줄에는 별 1개, 둘째 줄에는 별 2개, N번째 줄에는 별 N개를 찍는 문제\n",
    "# 하지만, 오른쪽을 기준으로 정렬한 별(예제 참고)을 출력하시오.\n",
    "# 입력 : 첫째 줄에 N(1 ≤ N ≤ 100)이 주어진다.\n",
    "# 출력 : 첫째 줄부터 N번째 줄까지 차례대로 별을 출력한다.\n",
    "\n",
    "N=int(input())\n",
    "\n",
    "\n",
    "for i in range(1, N+1):\n",
    "    print(' '*(N-i), '*'*i, sep='')\n",
    "    \n",
    "# print의 컴마에는 디폴트로 공백이 있음. 따라서, sep=' '으로 공백 제거\n",
    "\n"
   ]
  },
  {
   "cell_type": "code",
   "execution_count": 7,
   "id": "c451ce6f",
   "metadata": {},
   "outputs": [
    {
     "name": "stdout",
     "output_type": "stream",
     "text": [
      "10 5\n",
      "1 2 3 4 5 6 7 8 9 10\n",
      "1 2 3 4 "
     ]
    }
   ],
   "source": [
    "### Q10. 10871_X보다 작은 수\n",
    "# 문제 : 정수 N개로 이루어진 수열 A와 정수 X가 주어진다. 이때, A에서 X보다 작은 수를 모두 출력하는 프로그램을 작성하시오.\n",
    "# 입력\n",
    "# 첫째 줄에 N과 X가 주어진다. (1 ≤ N, X ≤ 10,000)\n",
    "# 둘째 줄에 수열 A를 이루는 정수 N개가 주어진다. 주어지는 정수는 모두 1보다 크거나 같고, 10,000보다 작거나 같은 정수이다.\n",
    "# 출력 : X보다 작은 수를 입력받은 순서대로 공백으로 구분해 출력한다. X보다 작은 수는 적어도 하나 존재한다.\n",
    "\n",
    "N, X = map(int, input().split()) # 임의의 정수 N과 X를 입력\n",
    "A = list(map(int, input().split())) # 정수 N을 이루는 정수 나열 (=list A)\n",
    "for i in range(N): #왜 N인가? (0~9까지만인데, 10은 왜 제외될까?)\n",
    "    if A[i]<X: \n",
    "        print(A[i],end=\" \") # 공백지정\n",
    "\n"
   ]
  },
  {
   "cell_type": "code",
   "execution_count": 1,
   "id": "e7595951",
   "metadata": {},
   "outputs": [
    {
     "name": "stdout",
     "output_type": "stream",
     "text": [
      "1 2\n",
      "3\n",
      "3 4\n",
      "7\n",
      "0 0\n"
     ]
    }
   ],
   "source": [
    "### Q12. 10952_A+B - 5\n",
    "# 문제 : A와 B를 입력받은 다음, A+B를 출력하는 프로그램을 작성하시오.\n",
    "# 입력\n",
    "# 입력은 여러 개의 테스트 케이스로 이루어져 있다.\n",
    "# 각 테스트 케이스는 한 줄로 이루어져 있으며, 각 줄에 A와 B가 주어진다. (0 < A, B < 10)\n",
    "# 입력의 마지막에는 0 두 개가 들어온다.\n",
    "# 출력 : 각 테스트 케이스마다 A+B를 출력한다.\n",
    "\n",
    "# while문과 for문의 차이는\n",
    "# for문은 반복 횟수를 알때, while문은 어떤 조건에 부합할 때까지 반복할 때 사용\n",
    "# 즉, 여러 개의 테스트 케이스이므로, while문 (무한루프) 사용\n",
    "\n",
    "while True:\n",
    "    a, b = map(int, input().split())\n",
    "    if a==b==0:\n",
    "        break\n",
    "        \n",
    "    print(a+b)\n",
    "    \n"
   ]
  },
  {
   "cell_type": "code",
   "execution_count": 4,
   "id": "c01a7349",
   "metadata": {},
   "outputs": [
    {
     "name": "stdout",
     "output_type": "stream",
     "text": [
      "0 0\n",
      "0\n",
      "r d\n"
     ]
    }
   ],
   "source": [
    "### Q13. 10951_A+B - 4\n",
    "# 문제 : 두 정수 A와 B를 입력받은 다음, A+B를 출력하는 프로그램을 작성하시오.\n",
    "# 입력\n",
    "# 입력은 여러 개의 테스트 케이스로 이루어져 있다.\n",
    "# 각 테스트 케이스는 한 줄로 이루어져 있으며, 각 줄에 A와 B가 주어진다. (0 < A, B < 10)\n",
    "# 출력 : 각 테스트 케이스마다 A+B를 출력한다.\n",
    "\n",
    "while True:\n",
    "    try:\n",
    "        a, b = map(int, input().split())\n",
    "        print(a+b)\n",
    "    except:\n",
    "        break\n",
    "        \n",
    "#while문은 동작이 크기 때문에, try에 대한 오류값이 나오면 브레이크를 지정해야 한다."
   ]
  },
  {
   "cell_type": "code",
   "execution_count": 3,
   "id": "8f4b0be9",
   "metadata": {},
   "outputs": [
    {
     "name": "stdout",
     "output_type": "stream",
     "text": [
      "26\n",
      "4\n"
     ]
    }
   ],
   "source": [
    "### 원래 수로 돌아올 때까지 연산을 반복하는 문제\n",
    "### Q14. 1110_더하기 사이클\n",
    "# 문제\n",
    "# 0보다 크거나 같고, 99보다 작거나 같은 정수가 주어질 때 다음과 같은 연산을 할 수 있다.\n",
    "# 먼저 주어진 수가 10보다 작다면 앞에 0을 붙여 두 자리 수로 만들고, 각 자리의 숫자를 더한다.\n",
    "# 그 다음, 주어진 수의 가장 오른쪽 자리 수와 앞에서 구한 합의 가장 오른쪽 자리 수를 이어 붙이면 새로운 수를 만들 수 있다. 다음 예를 보자.\n",
    "# 26부터 시작한다. 2+6 = 8이다. 새로운 수는 68이다. 6+8 = 14이다.\n",
    "# 새로운 수는 84이다. 8+4 = 12이다. 새로운 수는 42이다. 4+2 = 6이다. 새로운 수는 26이다.\n",
    "# 위의 예는 4번만에 원래 수로 돌아올 수 있다. 따라서 26의 사이클의 길이는 4이다.\n",
    "# N이 주어졌을 때, N의 사이클의 길이를 구하는 프로그램을 작성하시오.\n",
    "\n",
    "# 입력 : 첫째 줄에 N이 주어진다. N은 0보다 크거나 같고, 99보다 작거나 같은 정수이다.\n",
    "# 출력 : 첫째 줄에 N의 사이클 길이를 출력한다\n",
    "\n",
    "N=int(input())\n",
    "num=N\n",
    "cnt=0 #왜 cnt=0 지정 하는걸까?\n",
    "\n",
    "while True:\n",
    "    a=num//10\n",
    "    b=num%10\n",
    "    c=(a+b)%10 #2번째 수의 1의 자리\n",
    "    num=(b*10)+c # 1번째 수의 1의 자리 * 10 + c = 새로운 숫자\n",
    "    cnt = cnt+1 #반복될 때마다 +1이 되도록 지정한 것\n",
    "    #반복\n",
    "    \n",
    "    if N == num: #N과 num이 같아질 때 종료\n",
    "        break\n",
    "\n",
    "print(cnt)\n",
    "\n",
    "\n",
    "\n"
   ]
  }
 ],
 "metadata": {
  "kernelspec": {
   "display_name": "Python 3 (ipykernel)",
   "language": "python",
   "name": "python3"
  },
  "language_info": {
   "codemirror_mode": {
    "name": "ipython",
    "version": 3
   },
   "file_extension": ".py",
   "mimetype": "text/x-python",
   "name": "python",
   "nbconvert_exporter": "python",
   "pygments_lexer": "ipython3",
   "version": "3.9.12"
  }
 },
 "nbformat": 4,
 "nbformat_minor": 5
}
