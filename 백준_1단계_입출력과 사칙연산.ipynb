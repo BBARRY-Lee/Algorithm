{
 "cells": [
  {
   "cell_type": "code",
   "execution_count": 9,
   "id": "5b1e2442",
   "metadata": {},
   "outputs": [
    {
     "name": "stdout",
     "output_type": "stream",
     "text": [
      "Hello World!\n"
     ]
    }
   ],
   "source": [
    "# 백준 단계별로 문제풀이\n",
    "## 단계 1 : 입출력과 사칙연산\n",
    "\n",
    "### Q1. 2557_Hello World! 출력\n",
    "print('Hello World!')"
   ]
  },
  {
   "cell_type": "code",
   "execution_count": 10,
   "id": "a2a9dc19",
   "metadata": {},
   "outputs": [
    {
     "name": "stdout",
     "output_type": "stream",
     "text": [
      "강한친구 대한육군\n",
      "강한친구 대한육군\n"
     ]
    }
   ],
   "source": [
    "### Q2.10718_두 줄에 걸쳐 \"강한친구 대한육군\"을 한 줄에 한 번씩 출력\n",
    "\n",
    "print('강한친구 대한육군')\n",
    "print('강한친구 대한육군')"
   ]
  },
  {
   "cell_type": "code",
   "execution_count": 11,
   "id": "59b487b6",
   "metadata": {},
   "outputs": [
    {
     "name": "stdout",
     "output_type": "stream",
     "text": [
      "\\    /\\\n",
      " )  ( ')\n",
      "(  /  )\n",
      " \\(__)|\n"
     ]
    }
   ],
   "source": [
    "### Q3.10171_고양이를 출력\n",
    "\n",
    "# 예시 출력\n",
    "#\\    /\\\n",
    "# )  ( ')\n",
    "#(  /  )\n",
    "# \\(__)|\n",
    "\n",
    "print(\"\\\\    /\\\\\")\n",
    "print(\" )  ( ')\")\n",
    "print(\"(  /  )\")\n",
    "print(\" \\\\(__)|\")\n",
    "\n",
    "##주의사항\n",
    "# 백슬래시 앞에 백슬래시 한 번 더 작성해야 출력 됨\n",
    "# \\ +\" or ' : 따옴표, 작은따옴표 앞에 붙이면 문자열로 출력 됨\n",
    "      \n",
    "      "
   ]
  },
  {
   "cell_type": "code",
   "execution_count": 12,
   "id": "478418bd",
   "metadata": {},
   "outputs": [
    {
     "name": "stdout",
     "output_type": "stream",
     "text": [
      "|\\_/|\n",
      "|q p|   /}\n",
      "( 0 )\"\"\"\\\n",
      "|\"^\"`    |\n",
      "||_/=\\\\__|\n"
     ]
    }
   ],
   "source": [
    "### Q4.10172_개를 출력\n",
    "\n",
    "# 예시 출력\n",
    "#|\\_/|\n",
    "#|q p|   /}\n",
    "#( 0 )\"\"\"\\\n",
    "#|\"^\"`    |\n",
    "#||_/=\\\\__|\n",
    "\n",
    "print('|\\\\_/|')\n",
    "print('|q p|   /}')\n",
    "print('( 0 )\"\"\"\\\\')\n",
    "print('|\"^\"`    |')\n",
    "print('||_/=\\\\\\\\__|')\n",
    "\n",
    "## 주의사항\n",
    "# 백슬래시 앞에 백슬래시 한 번 더 작성해야 출력 됨\n",
    "# \\ +\" or ' : 따옴표, 작은따옴표 앞에 붙이면 문자열로 출력 됨\n",
    "      "
   ]
  },
  {
   "cell_type": "code",
   "execution_count": 14,
   "id": "1ca3910e",
   "metadata": {},
   "outputs": [
    {
     "name": "stdout",
     "output_type": "stream",
     "text": [
      "1 2\n",
      "3\n"
     ]
    }
   ],
   "source": [
    "### Q5.1000_A+B\n",
    "\n",
    "# 문제 : 두 정수 A와 B를 입력받은 다음, A+B를 출력하는 프로그램을 작성하시오.\n",
    "# 입력 : 첫째 줄에 A와 B가 주어진다. (0 < A, B < 10)\n",
    "# 출력 : 첫째 줄에 A+B를 출력한다.\n",
    "\n",
    "a, b= map(int, input().split())\n",
    "print(a+b)\n",
    "\n",
    "# map : 지정함수\n",
    "# int : 숫자, 문자열 → 정수형 변환\n",
    "# split() 공백으로 구분하는 것으로, 알고리즘에서 한 줄에 어떤 것들이 주어지면 사이에 공백이 하나씩 있다는 암묵적 규칙 전제"
   ]
  },
  {
   "cell_type": "code",
   "execution_count": 15,
   "id": "91e72314",
   "metadata": {},
   "outputs": [
    {
     "name": "stdout",
     "output_type": "stream",
     "text": [
      "1 2\n",
      "-1\n"
     ]
    }
   ],
   "source": [
    "### Q6.1001_A-B\n",
    "\n",
    "# 문제 : 두 정수 A와 B를 입력받은 다음, A-B를 출력하는 프로그램을 작성하시오.\n",
    "# 입력 : 첫째 줄에 A와 B가 주어진다. (0 < A, B < 10)\n",
    "# 출력 : 첫째 줄에 A-B를 출력한다.\n",
    "\n",
    "a, b=map(int, input().split())\n",
    "print(a-b)\n",
    "\n"
   ]
  },
  {
   "cell_type": "code",
   "execution_count": 17,
   "id": "b3444a40",
   "metadata": {},
   "outputs": [
    {
     "name": "stdout",
     "output_type": "stream",
     "text": [
      "2 5\n",
      "10\n"
     ]
    }
   ],
   "source": [
    "### Q7.10998_AXB\n",
    "\n",
    "# 문제 : 두 정수 A와 B를 입력받은 다음, AXB를 출력하는 프로그램을 작성하시오.\n",
    "# 입력 : 첫째 줄에 A와 B가 주어진다. (0 < A, B < 10)\n",
    "# 출력 : 첫째 줄에 AXB를 출력한다.\n",
    "\n",
    "a, b=map(int, input().split())\n",
    "print(a*b)\n",
    "\n"
   ]
  },
  {
   "cell_type": "code",
   "execution_count": 18,
   "id": "10073391",
   "metadata": {},
   "outputs": [
    {
     "name": "stdout",
     "output_type": "stream",
     "text": [
      "3 2\n",
      "1.5\n"
     ]
    }
   ],
   "source": [
    "### Q8.10998_A/B\n",
    "\n",
    "# 문제 : 두 정수 A와 B를 입력받은 다음, A/B를 출력하는 프로그램을 작성하시오.\n",
    "# 입력 : 첫째 줄에 A와 B가 주어진다. (0 < A, B < 10)\n",
    "# 출력 : 첫째 줄에 A/B를 출력한다. 실제 정답과 출력값의 절대오차 또는 상대오차가 10의 -9승 이하이면 정답이다.\n",
    "\n",
    "a, b=map(int, input().split())\n",
    "print(a/b)\n",
    "\n",
    "\n"
   ]
  },
  {
   "cell_type": "code",
   "execution_count": 23,
   "id": "48cc35f0",
   "metadata": {},
   "outputs": [
    {
     "name": "stdout",
     "output_type": "stream",
     "text": [
      "7 3\n",
      "10\n",
      "4\n",
      "21\n",
      "2\n",
      "1\n"
     ]
    }
   ],
   "source": [
    "### Q9.10869_사칙연산\n",
    "\n",
    "# 문제 : 두 자연수 A와 B가 주어진다. 이때, A+B, A-B, A*B, A/B(몫), A%B(나머지)를 출력하는 프로그램을 작성하시오.\n",
    "# 입력 : 두 자연수 A와 B가 주어진다. (1 ≤ A, B ≤ 10,000)\n",
    "# 출력 : 첫째 줄에 A+B, 둘째 줄에 A-B, 셋째 줄에 A*B, 넷째 줄에 A/B, 다섯째 줄에 A%B를 출력한다.\n",
    "\n",
    "a, b=map(int,input().split())\n",
    "print(a+b)\n",
    "print(a-b)\n",
    "print(a*b)\n",
    "print(a//b)\n",
    "print(a%b)\n",
    "\n",
    "#나누기에서 몫='//', 나머지='%'"
   ]
  },
  {
   "cell_type": "code",
   "execution_count": 26,
   "id": "0474d0a7",
   "metadata": {},
   "outputs": [
    {
     "name": "stdout",
     "output_type": "stream",
     "text": [
      "joonas\n",
      "joonas??!\n"
     ]
    }
   ],
   "source": [
    "### Q10.10926_??!\n",
    "# 문제 : 준하는 사이트에 회원가입을 하다가 joonas라는 아이디가 이미 존재하는 것을 보고 놀랐다. 준하는 놀람을 ??!로 표현한다.\n",
    "#       준하가 가입하려고 하는 사이트에 이미 존재하는 아이디가 주어졌을 때, 놀람을 표현하는 프로그램을 작성하시오.\n",
    "# 입력 : 첫째 줄에 준하가 가입하려고 하는 사이트에 이미 존재하는 아이디가 주어진다.\n",
    "#       아이디는 알파벳 소문자로만 이루어져 있으며, 길이는 50자를 넘지 않는다.\n",
    "# 출력 : 첫째 줄에 준하의 놀람을 출력한다. 놀람은 아이디 뒤에 ??!를 붙여서 나타낸다.\n",
    "\n",
    "#joonas\n",
    "\n",
    "a=(input())\n",
    "print(a+'??!')\n",
    "\n",
    "# '+'뒤에 문자열 등을 작성하면 바로 뒤에 작성되지만, ','로 구분하면 띄어쓰기 됨"
   ]
  },
  {
   "cell_type": "code",
   "execution_count": 46,
   "id": "6a0ad5cd",
   "metadata": {},
   "outputs": [
    {
     "name": "stdout",
     "output_type": "stream",
     "text": [
      "2541\n",
      "1998\n"
     ]
    }
   ],
   "source": [
    "### Q11.18108_1998년생인 내가 태국에서는 2541년생?!\n",
    "\n",
    "##문제\n",
    "# ICPC Bangkok Regional에 참가하기 위해 수완나품 국제공항에 막 도착한 팀 레드시프트 일행은 눈을 믿을 수 없었다.\n",
    "# 공항의 대형 스크린에 올해가 2562년이라고 적혀 있던 것이었다.\n",
    "#불교 국가인 태국은 불멸기원(佛滅紀元), 즉 석가모니가 열반한 해를 기준으로 연도를 세는 불기를 사용한다.\n",
    "# 반면, 우리나라는 서기 연도를 사용하고 있다. 불기 연도가 주어질 때 이를 서기 연도로 바꿔 주는 프로그램을 작성하시오.\n",
    "\n",
    "# 입력 : 서기 연도를 알아보고 싶은 불기 연도 y가 주어진다. (1000 ≤ y ≤ 3000)\n",
    "# 출력 : 불기 연도를 서기 연도로 변환한 결과를 출력한다.\n",
    "\n",
    "# )\n",
    "# -> 543년 차이\n",
    "\n",
    "y=int(input())\n",
    "x=(543)\n",
    "print(y-x)\n",
    "\n",
    "# 문제를 통해 543년 차이가 나는 것을 알 수 있음 'print(2541-1998)'\n",
    "# 숫자 하나만 넣을 때 함수 기억하기 'int(input())'"
   ]
  },
  {
   "cell_type": "code",
   "execution_count": 51,
   "id": "5799ac88",
   "metadata": {},
   "outputs": [
    {
     "name": "stdout",
     "output_type": "stream",
     "text": [
      "5 8 4\n",
      "1\n",
      "1\n",
      "0\n",
      "0\n"
     ]
    }
   ],
   "source": [
    "### Q12.10430\n",
    "# 문제\n",
    "# (A+B)%C는 ((A%C) + (B%C))%C 와 같을까?\n",
    "# (A×B)%C는 ((A%C) × (B%C))%C 와 같을까?\n",
    "# 세 수 A, B, C가 주어졌을 때, 위의 네 가지 값을 구하는 프로그램을 작성하시오.\n",
    "\n",
    "# 입력 : 첫째 줄에 A, B, C가 순서대로 주어진다. (2 ≤ A, B, C ≤ 10000)\n",
    "# 출력\n",
    "#첫째 줄에 (A+B)%C, 둘째 줄에 ((A%C) + (B%C))%C, 셋째 줄에 (A×B)%C, 넷째 줄에 ((A%C) × (B%C))%C를 출력한다.\n",
    "\n",
    "A, B, C = map(int,input().split())\n",
    "print((A+B)%C)\n",
    "print(((A%C) + (B%C))%C)\n",
    "print((A*B)%C)\n",
    "print(((A%C) * (B%C))%C)\n",
    "\n",
    "# 여러 인수를 입력할 때, 'input().split()' 스플릿 꼭 입력하기\n"
   ]
  },
  {
   "cell_type": "code",
   "execution_count": 63,
   "id": "48c2b3f9",
   "metadata": {},
   "outputs": [
    {
     "name": "stdout",
     "output_type": "stream",
     "text": [
      "472\n",
      "385\n",
      "2360\n",
      "3776\n",
      "1416\n",
      "181720\n"
     ]
    }
   ],
   "source": [
    "### Q13.2588_곱셈\n",
    "# 문제\n",
    "# (세 자리 수) × (세 자리 수)는 다음과 같은 과정을 통하여 이루어진다.\n",
    "#![nn](Downloads/2588.png)\n",
    "# (1)과 (2)위치에 들어갈 세 자리 자연수가 주어질 때 (3), (4), (5), (6)위치에 들어갈 값을 구하는 프로그램을 작성하시오.\n",
    "# 입력 : 첫째 줄에 (1)의 위치에 들어갈 세 자리 자연수가, 둘째 줄에 (2)의 위치에 들어갈 세자리 자연수가 주어진다.\n",
    "# 출력 : 첫째 줄부터 넷째 줄까지 차례대로 (3), (4), (5), (6)에 들어갈 값을 출력한다.\n",
    "\n",
    "a = int(input()) # 정수형 변환\n",
    "b = input() # 각각의 숫자를 분리하여 계산해야하기 때문에, 문자열 그대로!\n",
    "c = a * int(b[2]) #일의자리\n",
    "d = a * int(b[1]) #십의자리\n",
    "e = a * int(b[0]) #백의자리\n",
    "f = a * int(b)\n",
    "print (c,d,e,f, sep='\\n') #sep='\\p' 는 값 개수에 따른 자동 줄바꿈\n",
    "\n",
    "######### 복습 필요!!! #############\n"
   ]
  },
  {
   "cell_type": "code",
   "execution_count": 79,
   "id": "ec5b5704",
   "metadata": {},
   "outputs": [
    {
     "name": "stdout",
     "output_type": "stream",
     "text": [
      "         ,r'\"7\n",
      "r`-_   ,'  ,/\n",
      " \\. \". L_r'\n",
      "   `~\\/\n",
      "      |\n",
      "      |\n"
     ]
    }
   ],
   "source": [
    "### Q14.25083_새싹\n",
    "\n",
    "# 예시 출력\n",
    "#         ,r'\"7\n",
    "#r`-_   ,'  ,/\n",
    "# \\. \". L_r'\n",
    "#   `~\\/\n",
    "#      |\n",
    "#      |\n",
    "        \n",
    "print('         ,r\\'\\\"7')\n",
    "print('r`-_   ,\\'  ,/')\n",
    "print(' \\\\. \". L_r\\'')\n",
    "print('   `~\\\\/')\n",
    "print('      |')\n",
    "print('      |')\n",
    "\n",
    "##주의사항\n",
    "# 백슬래시 앞에 백슬래시 한 번 더 작성해야 출력 됨\n",
    "# \\ +\" or ' : 따옴표, 작은따옴표 앞에 붙이면 문자열로 출력 됨\n",
    "      "
   ]
  }
 ],
 "metadata": {
  "kernelspec": {
   "display_name": "Python 3 (ipykernel)",
   "language": "python",
   "name": "python3"
  },
  "language_info": {
   "codemirror_mode": {
    "name": "ipython",
    "version": 3
   },
   "file_extension": ".py",
   "mimetype": "text/x-python",
   "name": "python",
   "nbconvert_exporter": "python",
   "pygments_lexer": "ipython3",
   "version": "3.9.12"
  }
 },
 "nbformat": 4,
 "nbformat_minor": 5
}
