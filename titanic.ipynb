{
 "cells": [
  {
   "cell_type": "code",
   "execution_count": 1,
   "id": "ab18d75a",
   "metadata": {
    "_cell_guid": "b1076dfc-b9ad-4769-8c92-a6c4dae69d19",
    "_uuid": "8f2839f25d086af736a60e9eeb907d3b93b6e0e5",
    "execution": {
     "iopub.execute_input": "2022-03-29T14:40:15.828432Z",
     "iopub.status.busy": "2022-03-29T14:40:15.818858Z",
     "iopub.status.idle": "2022-03-29T14:40:15.837095Z",
     "shell.execute_reply": "2022-03-29T14:40:15.837761Z",
     "shell.execute_reply.started": "2022-03-29T14:29:20.279629Z"
    },
    "papermill": {
     "duration": 0.03422,
     "end_time": "2022-03-29T14:40:15.838167",
     "exception": false,
     "start_time": "2022-03-29T14:40:15.803947",
     "status": "completed"
    },
    "tags": []
   },
   "outputs": [
    {
     "name": "stdout",
     "output_type": "stream",
     "text": [
      "/kaggle/input/titanic-dataset/train.csv\n",
      "/kaggle/input/titanic-dataset/test.csv\n",
      "/kaggle/input/titanic-dataset/gender_submission.csv\n"
     ]
    }
   ],
   "source": [
    "# This Python 3 environment comes with many helpful analytics libraries installed\n",
    "# It is defined by the kaggle/python Docker image: https://github.com/kaggle/docker-python\n",
    "# For example, here's several helpful packages to load\n",
    "\n",
    "# 1️⃣ How to set packages on Pycham ✨\n",
    "# 1. Install numpy and Pandas.\n",
    "#    → File → New project setup → Preferences for New projects → Phython interpreter → Serching package and install.\n",
    "\n",
    "# 2. What is numpy (Numerical Python)?\n",
    "#    → C언어로 구현된 파이썬 라이브러리로써, 고성능의 수치계산을 위해 제작\n",
    "#      벡터 및 행렬 연산에 편리한 기능 제공\n",
    "#      데이터 분석 시 사용되는 라이브러리 pandas와 matplotlib의 기반으로 사용\n",
    "#      numpy에서는 기본적으로 array라는 단위로 데이터를 관리하며 이에 대해 연산을 수행 (array = 행렬 개념)\n",
    "\n",
    "# 3. What is pandas?\n",
    "#    → Python 자료구조와 호환 (List ,Tuple, Dict, NumpyArray 등)\n",
    "#      큰 데이터의 빠른 Indexing, Slicing, Sorting 기능\n",
    "#      두 데이터 간 Join(행,열 방향) 기능\n",
    "#      데이터의 피봇팅 및 그룹핑, 통계 및 시각화 기능\n",
    "#      외부 데이터를 입력 받아 Pandas 자료구조로 저장 및 출력 (CSV, 구분자가 있는 txt, 엑셀, SQL database, XML 등\n",
    "\n",
    "# 2️⃣ Explain about rawdata file. 👩🏻‍💻\n",
    "# 1. Train.csv\n",
    "#     1) This file contains detail of a subset of the passengers on board. (891 passengers)\n",
    "#     2) The values in the second column (Survived) can be used to determine wheather each passenger survived or not :\n",
    "#         → If it's a \"1\", the passenger survived and \"0\", the passenger died.\n",
    "\n",
    "# 2. test.csv\n",
    "#    1) Using the patterns I find in this file, I have to predict wheter the other 418 passengers on board survived.\n",
    "#    2) This file does not have a \"Survived\" column.\n",
    "#        → This information is hidden and how well I do at predicting these hidden values will help to me.\n",
    "\n",
    "# 3. gender_submission.csv\n",
    "#    1) This file is provided as an example that show how I should structure my predictions. (예측 구성 방법)\n",
    "#    2) It predicts that all female survival, and male died. But my hypotheses regarding survival will be different.\n",
    "#    3) My submission should have :\n",
    "#       → a \"PassengerID\" column containing the IDs of each passenger from test.csv.\n",
    "#       → a \"Survived\" column (that I will create) with a \"1\" for the rows where I think the passenger survived, and a \"0\" where my predict that the passenger died.\n",
    "\n",
    "# 3️⃣ Let's go!\n",
    "import numpy as np # linear algebra\n",
    "import pandas as pd # data processing, CSV file I/O (e.g. pd.read_csv)\n",
    "\n",
    "# Input data files are available in the read-only \"../input/\" directory\n",
    "# For example, running this (by clicking run or pressing Shift+Enter) will list all files under the input directory\n",
    "\n",
    "import os\n",
    "for dirname, _, filenames in os.walk('/kaggle/input'):\n",
    "    for filename in filenames:\n",
    "        print(os.path.join(dirname, filename))\n",
    "\n",
    "# You can write up to 20GB to the current directory (/kaggle/working/) that gets preserved as output when you create a version using \"Save & Run All\" \n",
    "# You can also write temporary files to /kaggle/temp/, but they won't be saved outside of the current session"
   ]
  },
  {
   "cell_type": "code",
   "execution_count": 2,
   "id": "33d20250",
   "metadata": {
    "execution": {
     "iopub.execute_input": "2022-03-29T14:40:15.859196Z",
     "iopub.status.busy": "2022-03-29T14:40:15.858536Z",
     "iopub.status.idle": "2022-03-29T14:40:15.893143Z",
     "shell.execute_reply": "2022-03-29T14:40:15.893621Z",
     "shell.execute_reply.started": "2022-03-29T14:39:49.659934Z"
    },
    "papermill": {
     "duration": 0.046798,
     "end_time": "2022-03-29T14:40:15.893771",
     "exception": false,
     "start_time": "2022-03-29T14:40:15.846973",
     "status": "completed"
    },
    "tags": []
   },
   "outputs": [
    {
     "data": {
      "text/html": [
       "<div>\n",
       "<style scoped>\n",
       "    .dataframe tbody tr th:only-of-type {\n",
       "        vertical-align: middle;\n",
       "    }\n",
       "\n",
       "    .dataframe tbody tr th {\n",
       "        vertical-align: top;\n",
       "    }\n",
       "\n",
       "    .dataframe thead th {\n",
       "        text-align: right;\n",
       "    }\n",
       "</style>\n",
       "<table border=\"1\" class=\"dataframe\">\n",
       "  <thead>\n",
       "    <tr style=\"text-align: right;\">\n",
       "      <th></th>\n",
       "      <th>PassengerId</th>\n",
       "      <th>Survived</th>\n",
       "    </tr>\n",
       "  </thead>\n",
       "  <tbody>\n",
       "    <tr>\n",
       "      <th>0</th>\n",
       "      <td>892</td>\n",
       "      <td>0</td>\n",
       "    </tr>\n",
       "    <tr>\n",
       "      <th>1</th>\n",
       "      <td>893</td>\n",
       "      <td>1</td>\n",
       "    </tr>\n",
       "    <tr>\n",
       "      <th>2</th>\n",
       "      <td>894</td>\n",
       "      <td>0</td>\n",
       "    </tr>\n",
       "    <tr>\n",
       "      <th>3</th>\n",
       "      <td>895</td>\n",
       "      <td>0</td>\n",
       "    </tr>\n",
       "    <tr>\n",
       "      <th>4</th>\n",
       "      <td>896</td>\n",
       "      <td>1</td>\n",
       "    </tr>\n",
       "  </tbody>\n",
       "</table>\n",
       "</div>"
      ],
      "text/plain": [
       "   PassengerId  Survived\n",
       "0          892         0\n",
       "1          893         1\n",
       "2          894         0\n",
       "3          895         0\n",
       "4          896         1"
      ]
     },
     "execution_count": 2,
     "metadata": {},
     "output_type": "execute_result"
    }
   ],
   "source": [
    "# 4️⃣ Load the data!\n",
    "train_data = pd.read_csv(\"/kaggle/input/titanic-dataset/train.csv\")\n",
    "train_data.head()\n",
    "test_data = pd.read_csv(\"/kaggle/input/titanic-dataset/test.csv\")\n",
    "test_data.head()\n",
    "gender_submission_data = pd.read_csv(\"/kaggle/input/titanic-dataset/gender_submission.csv\")\n",
    "gender_submission_data.head()"
   ]
  },
  {
   "cell_type": "code",
   "execution_count": 3,
   "id": "0d8fba15",
   "metadata": {
    "execution": {
     "iopub.execute_input": "2022-03-29T14:40:15.913117Z",
     "iopub.status.busy": "2022-03-29T14:40:15.912259Z",
     "iopub.status.idle": "2022-03-29T14:40:15.922913Z",
     "shell.execute_reply": "2022-03-29T14:40:15.923394Z",
     "shell.execute_reply.started": "2022-03-29T14:29:20.386022Z"
    },
    "papermill": {
     "duration": 0.021633,
     "end_time": "2022-03-29T14:40:15.923539",
     "exception": false,
     "start_time": "2022-03-29T14:40:15.901906",
     "status": "completed"
    },
    "tags": []
   },
   "outputs": [
    {
     "name": "stdout",
     "output_type": "stream",
     "text": [
      "% of women who survived: 0.7420382165605095\n"
     ]
    }
   ],
   "source": [
    "# 5️⃣ Simple first submission!\n",
    "# Remember goal : I want to find patterns in train.csv that help me predict whether the passengers in test.csv survived.\n",
    "# Explore a pattern\n",
    "# Remember that the sample submission file in gender_submission.csv assumes that all female passengers survived\n",
    "# (and all male passengers died).\n",
    "# Is this a reasonable first guess? I'll check if this pattern holds true in the data.\n",
    "\n",
    "women = train_data.loc[train_data.Sex == 'female'][\"Survived\"] #train_data에 location[train_data.sex에서 \"살아남은\" '여성']\n",
    "rate_women = sum(women)/len(women)\n",
    "\n",
    "print(\"% of women who survived:\", rate_women)\n",
    "\n",
    "# This code above calculates the percentage of female passengers (in train.csv) who survived."
   ]
  },
  {
   "cell_type": "code",
   "execution_count": 4,
   "id": "7d50cb9f",
   "metadata": {
    "execution": {
     "iopub.execute_input": "2022-03-29T14:40:15.941752Z",
     "iopub.status.busy": "2022-03-29T14:40:15.941117Z",
     "iopub.status.idle": "2022-03-29T14:40:15.948180Z",
     "shell.execute_reply": "2022-03-29T14:40:15.947685Z",
     "shell.execute_reply.started": "2022-03-29T14:29:20.443064Z"
    },
    "papermill": {
     "duration": 0.016981,
     "end_time": "2022-03-29T14:40:15.948303",
     "exception": false,
     "start_time": "2022-03-29T14:40:15.931322",
     "status": "completed"
    },
    "tags": []
   },
   "outputs": [
    {
     "name": "stdout",
     "output_type": "stream",
     "text": [
      "% of men who survived: 0.18890814558058924\n"
     ]
    }
   ],
   "source": [
    "men = train_data.loc[train_data.Sex == 'male'][\"Survived\"]\n",
    "rate_men = sum(men)/len(men)\n",
    "\n",
    "print(\"% of men who survived:\", rate_men)\n",
    "# This code above calculates the percentage of male passengers (in train.csv) who survived."
   ]
  },
  {
   "cell_type": "code",
   "execution_count": 5,
   "id": "04e4c8ef",
   "metadata": {
    "execution": {
     "iopub.execute_input": "2022-03-29T14:40:15.972225Z",
     "iopub.status.busy": "2022-03-29T14:40:15.971492Z",
     "iopub.status.idle": "2022-03-29T14:40:17.252761Z",
     "shell.execute_reply": "2022-03-29T14:40:17.253309Z",
     "shell.execute_reply.started": "2022-03-29T14:39:53.358391Z"
    },
    "papermill": {
     "duration": 1.296555,
     "end_time": "2022-03-29T14:40:17.253481",
     "exception": false,
     "start_time": "2022-03-29T14:40:15.956926",
     "status": "completed"
    },
    "tags": []
   },
   "outputs": [
    {
     "name": "stdout",
     "output_type": "stream",
     "text": [
      "Your submission was successfully saved!\n"
     ]
    }
   ],
   "source": [
    "# 6️⃣ First machine learning model : Random Forest model\n",
    "# This model is constructed of several \"trees\" that will individually consider each passenger's data\n",
    "# and vote on whether the individual survived.\n",
    "# Then, It makes a democratic decision: the outcome with the most votes wins!\n",
    "\n",
    "from sklearn.ensemble import RandomForestClassifier\n",
    "\n",
    "y = train_data[\"Survived\"]\n",
    "\n",
    "features = [\"Pclass\", \"Sex\", \"SibSp\", \"Parch\"]\n",
    "X = pd.get_dummies(train_data[features])\n",
    "X_test = pd.get_dummies(test_data[features])\n",
    "\n",
    "model = RandomForestClassifier(n_estimators=100, max_depth=5, random_state=1)\n",
    "model.fit(X, y)\n",
    "predictions = model.predict(X_test)\n",
    "\n",
    "output = pd.DataFrame({'PassengerId': test_data.PassengerId, 'Survived': predictions})\n",
    "output.to_csv('submission.csv', index=False)\n",
    "print(\"Your submission was successfully saved!\")"
   ]
  },
  {
   "cell_type": "code",
   "execution_count": null,
   "id": "09a68a4b",
   "metadata": {
    "papermill": {
     "duration": 0.008848,
     "end_time": "2022-03-29T14:40:17.271623",
     "exception": false,
     "start_time": "2022-03-29T14:40:17.262775",
     "status": "completed"
    },
    "tags": []
   },
   "outputs": [],
   "source": []
  }
 ],
 "metadata": {
  "kernelspec": {
   "display_name": "Python 3",
   "language": "python",
   "name": "python3"
  },
  "language_info": {
   "codemirror_mode": {
    "name": "ipython",
    "version": 3
   },
   "file_extension": ".py",
   "mimetype": "text/x-python",
   "name": "python",
   "nbconvert_exporter": "python",
   "pygments_lexer": "ipython3",
   "version": "3.7.12"
  },
  "papermill": {
   "default_parameters": {},
   "duration": 10.743052,
   "end_time": "2022-03-29T14:40:17.888773",
   "environment_variables": {},
   "exception": null,
   "input_path": "__notebook__.ipynb",
   "output_path": "__notebook__.ipynb",
   "parameters": {},
   "start_time": "2022-03-29T14:40:07.145721",
   "version": "2.3.3"
  }
 },
 "nbformat": 4,
 "nbformat_minor": 5
}
